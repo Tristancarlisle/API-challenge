{
 "cells": [
  {
   "cell_type": "markdown",
   "metadata": {},
   "source": [
    "# VacationPy\n",
    "----\n",
    "\n",
    "#### Note\n",
    "* Keep an eye on your API usage. Use https://developers.google.com/maps/reporting/gmp-reporting as reference for how to monitor your usage and billing.\n",
    "\n",
    "* Instructions have been included for each segment. You do not have to follow them exactly, but they are included to help you think through the steps."
   ]
  },
  {
   "cell_type": "code",
   "execution_count": 3,
   "metadata": {},
   "outputs": [],
   "source": [
    "# Dependencies and Setup\n",
    "import matplotlib.pyplot as plt\n",
    "import pandas as pd\n",
    "import numpy as np\n",
    "import requests\n",
    "import gmaps\n",
    "import os\n",
    "\n",
    "# Import API key\n",
    "from api_keys import g_key"
   ]
  },
  {
   "cell_type": "markdown",
   "metadata": {},
   "source": [
    "### Store Part I results into DataFrame\n",
    "* Load the csv exported in Part I to a DataFrame"
   ]
  },
  {
   "cell_type": "code",
   "execution_count": 5,
   "metadata": {},
   "outputs": [
    {
     "data": {
      "text/html": [
       "<div>\n",
       "<style scoped>\n",
       "    .dataframe tbody tr th:only-of-type {\n",
       "        vertical-align: middle;\n",
       "    }\n",
       "\n",
       "    .dataframe tbody tr th {\n",
       "        vertical-align: top;\n",
       "    }\n",
       "\n",
       "    .dataframe thead th {\n",
       "        text-align: right;\n",
       "    }\n",
       "</style>\n",
       "<table border=\"1\" class=\"dataframe\">\n",
       "  <thead>\n",
       "    <tr style=\"text-align: right;\">\n",
       "      <th></th>\n",
       "      <th>City</th>\n",
       "      <th>lat</th>\n",
       "      <th>lng</th>\n",
       "      <th>Max_Temp</th>\n",
       "      <th>Humidity</th>\n",
       "      <th>Cloudiness</th>\n",
       "      <th>Wind_Speed</th>\n",
       "      <th>Country</th>\n",
       "      <th>Date</th>\n",
       "    </tr>\n",
       "  </thead>\n",
       "  <tbody>\n",
       "    <tr>\n",
       "      <th>0</th>\n",
       "      <td>Mariestad</td>\n",
       "      <td>58.7097</td>\n",
       "      <td>13.8237</td>\n",
       "      <td>4.27</td>\n",
       "      <td>82</td>\n",
       "      <td>17</td>\n",
       "      <td>8.44</td>\n",
       "      <td>SE</td>\n",
       "      <td>1644058555</td>\n",
       "    </tr>\n",
       "    <tr>\n",
       "      <th>1</th>\n",
       "      <td>Ubari</td>\n",
       "      <td>26.5921</td>\n",
       "      <td>12.7805</td>\n",
       "      <td>17.59</td>\n",
       "      <td>17</td>\n",
       "      <td>0</td>\n",
       "      <td>5.19</td>\n",
       "      <td>LY</td>\n",
       "      <td>1644058635</td>\n",
       "    </tr>\n",
       "    <tr>\n",
       "      <th>2</th>\n",
       "      <td>Ancud</td>\n",
       "      <td>-41.8697</td>\n",
       "      <td>-73.8203</td>\n",
       "      <td>11.79</td>\n",
       "      <td>87</td>\n",
       "      <td>3</td>\n",
       "      <td>0.98</td>\n",
       "      <td>CL</td>\n",
       "      <td>1644058572</td>\n",
       "    </tr>\n",
       "    <tr>\n",
       "      <th>3</th>\n",
       "      <td>Takoradze</td>\n",
       "      <td>4.8845</td>\n",
       "      <td>-1.7554</td>\n",
       "      <td>29.94</td>\n",
       "      <td>64</td>\n",
       "      <td>11</td>\n",
       "      <td>2.22</td>\n",
       "      <td>GH</td>\n",
       "      <td>1644058720</td>\n",
       "    </tr>\n",
       "    <tr>\n",
       "      <th>4</th>\n",
       "      <td>Bubaque</td>\n",
       "      <td>11.2833</td>\n",
       "      <td>-15.8333</td>\n",
       "      <td>25.25</td>\n",
       "      <td>43</td>\n",
       "      <td>0</td>\n",
       "      <td>2.39</td>\n",
       "      <td>GW</td>\n",
       "      <td>1644058791</td>\n",
       "    </tr>\n",
       "  </tbody>\n",
       "</table>\n",
       "</div>"
      ],
      "text/plain": [
       "        City      lat      lng  Max_Temp  Humidity  Cloudiness  Wind_Speed  \\\n",
       "0  Mariestad  58.7097  13.8237      4.27        82          17        8.44   \n",
       "1      Ubari  26.5921  12.7805     17.59        17           0        5.19   \n",
       "2      Ancud -41.8697 -73.8203     11.79        87           3        0.98   \n",
       "3  Takoradze   4.8845  -1.7554     29.94        64          11        2.22   \n",
       "4    Bubaque  11.2833 -15.8333     25.25        43           0        2.39   \n",
       "\n",
       "  Country        Date  \n",
       "0      SE  1644058555  \n",
       "1      LY  1644058635  \n",
       "2      CL  1644058572  \n",
       "3      GH  1644058720  \n",
       "4      GW  1644058791  "
      ]
     },
     "execution_count": 5,
     "metadata": {},
     "output_type": "execute_result"
    }
   ],
   "source": [
    "city_df = pd.read_csv(\"city_data.csv\")\n",
    "city_df.head()\n"
   ]
  },
  {
   "cell_type": "markdown",
   "metadata": {},
   "source": [
    "### Humidity Heatmap\n",
    "* Configure gmaps.\n",
    "* Use the Lat and Lng as locations and Humidity as the weight.\n",
    "* Add Heatmap layer to map."
   ]
  },
  {
   "cell_type": "code",
   "execution_count": 68,
   "metadata": {},
   "outputs": [],
   "source": [
    "gmaps.configure(api_key=g_key)\n",
    "figure_layout = {\n",
    "    'width': '400px',\n",
    "    'height': '300px',\n",
    "    'border': '1px solid black',\n",
    "    'padding': '1px',\n",
    "    'margin': '0 auto 0 auto'\n",
    "}\n",
    "fig = gmaps.figure(layout=figure_layout)\n"
   ]
  },
  {
   "cell_type": "code",
   "execution_count": 83,
   "metadata": {
    "scrolled": true
   },
   "outputs": [
    {
     "data": {
      "application/vnd.jupyter.widget-view+json": {
       "model_id": "82eaf6856b834631a200e5d967a088a7",
       "version_major": 2,
       "version_minor": 0
      },
      "text/plain": [
       "Figure(layout=FigureLayout(height='420px'))"
      ]
     },
     "metadata": {},
     "output_type": "display_data"
    }
   ],
   "source": [
    "locations = city_df[[\"lat\", \"lng\"]]\n",
    "weight = city_df[\"Humidity\"].astype(float)\n",
    "fig = gmaps.figure()\n",
    "\n",
    "# Create heat layer\n",
    "heat_layer = gmaps.heatmap_layer(locations, \n",
    "                                 weights=weight,\n",
    "                                 max_intensity= city_df[\"Humidity\"].max())\n",
    "                                 \n",
    "\n",
    "\n",
    "# Add layer\n",
    "fig.add_layer(heat_layer)\n",
    "\n",
    "# Display figure\n",
    "fig"
   ]
  },
  {
   "cell_type": "markdown",
   "metadata": {},
   "source": [
    "### Create new DataFrame fitting weather criteria\n",
    "* Narrow down the cities to fit weather conditions.\n",
    "* Drop any rows will null values."
   ]
  },
  {
   "cell_type": "code",
   "execution_count": 35,
   "metadata": {},
   "outputs": [
    {
     "data": {
      "text/plain": [
       "9"
      ]
     },
     "execution_count": 35,
     "metadata": {},
     "output_type": "execute_result"
    }
   ],
   "source": [
    "#city_df[\"Max_Temp\"] = city_df[\"Max_Temp\"].astype('float64')\n",
    "ideal= city_df[city_df[\"Max_Temp\"]>25]\n",
    "ideal= ideal[ideal[\"Wind_Speed\"]<10]\n",
    "ideal= ideal[ideal[\"Cloudiness\"]== 0]\n",
    "len(ideal)\n"
   ]
  },
  {
   "cell_type": "markdown",
   "metadata": {},
   "source": [
    "### Hotel Map\n",
    "* Store into variable named `hotel_df`.\n",
    "* Add a \"Hotel Name\" column to the DataFrame.\n",
    "* Set parameters to search for hotels with 5000 meters.\n",
    "* Hit the Google Places API for each city's coordinates.\n",
    "* Store the first Hotel result into the DataFrame.\n",
    "* Plot markers on top of the heatmap."
   ]
  },
  {
   "cell_type": "code",
   "execution_count": 70,
   "metadata": {},
   "outputs": [],
   "source": [
    "base_url = \"https://maps.googleapis.com/maps/api/place/nearbysearch/json\"\n",
    "params = {\n",
    "    'keyword': \"5000 meters\",\n",
    "    \"rankby\": \"distance\",\n",
    "    \"type\": \"hotel\",\n",
    "    \"key\": g_key,\n",
    "}"
   ]
  },
  {
   "cell_type": "code",
   "execution_count": 50,
   "metadata": {},
   "outputs": [
    {
     "name": "stdout",
     "output_type": "stream",
     "text": [
      "11.2833, -15.8333\n",
      "Retrieving Results for Index 4: Bubaque.\n",
      "Closest hotel in Bubaque Saldomar B&Biosphere.\n",
      "------------\n",
      "-33.9258, 18.4232\n",
      "Retrieving Results for Index 26: Cape Town.\n",
      "Closest hotel in Cape Town Esme Witbooi Coaching.\n",
      "------------\n",
      "-25.2406, 130.9889\n",
      "Retrieving Results for Index 238: Yulara.\n",
      "Missing field/result... skipping.\n",
      "------------\n",
      "-28.7667, 114.6\n",
      "Retrieving Results for Index 277: Geraldton.\n",
      "Closest hotel in Geraldton Houtman Abrolhos Conservation Network.\n",
      "------------\n",
      "-33.65, 115.3333\n",
      "Retrieving Results for Index 403: Busselton.\n",
      "Closest hotel in Busselton JAB AGENCY.\n",
      "------------\n",
      "25.5167, 69.7667\n",
      "Retrieving Results for Index 462: Chhor.\n",
      "Closest hotel in Chhor Ali Nawaz Nohri Autoz Chhor.\n",
      "------------\n",
      "17.0151, 54.0924\n",
      "Retrieving Results for Index 488: Salalah.\n",
      "Closest hotel in Salalah Nepali Restaurant.\n",
      "------------\n",
      "14.9515, -16.8129\n",
      "Retrieving Results for Index 497: Tivaouane.\n",
      "Closest hotel in Tivaouane Palais des hôtes de Tivaouane.\n",
      "------------\n",
      "11.75, -13.2\n",
      "Retrieving Results for Index 511: Gaoual.\n",
      "Closest hotel in Gaoual Mosquée de Gaoual.\n",
      "------------\n"
     ]
    }
   ],
   "source": [
    "hotelname =[]\n",
    "hoteladdy = []\n",
    "\n",
    "for index, row in ideal.iterrows():\n",
    "\n",
    "    # get restaurant type from df\n",
    "    location = f'{row[\"lat\"]}, {row[\"lng\"]}'\n",
    "    print(location)\n",
    "\n",
    "    # add keyword to params dict\n",
    "    params['location'] = location\n",
    "    city = row[\"City\"]\n",
    "\n",
    "    # assemble url and make API request\n",
    "    print(f\"Retrieving Results for Index {index}: {city}.\")\n",
    "    response = requests.get(base_url, params=params).json()\n",
    "    \n",
    "    # extract results\n",
    "    results = response['results']\n",
    "    \n",
    "    try:\n",
    "        print(f\"Closest hotel in {city} {results[0]['name']}.\")\n",
    "        \n",
    "        hotelname.append(results[0]['name'])\n",
    "        hoteladdy.append(results[0]['vicinity'])\n",
    "        \n",
    "    except (KeyError, IndexError):\n",
    "        hotelname.append(\"NA\")\n",
    "        hoteladdy.append(\"NA\")\n",
    "        print(\"Missing field/result... skipping.\")\n",
    "        \n",
    "    print(\"------------\")\n",
    "\n",
    "ideal[\"Hotel Name\"] = hotelname\n",
    "ideal[\"Hotel Address\"] = hoteladdy"
   ]
  },
  {
   "cell_type": "code",
   "execution_count": 72,
   "metadata": {},
   "outputs": [
    {
     "data": {
      "text/html": [
       "<div>\n",
       "<style scoped>\n",
       "    .dataframe tbody tr th:only-of-type {\n",
       "        vertical-align: middle;\n",
       "    }\n",
       "\n",
       "    .dataframe tbody tr th {\n",
       "        vertical-align: top;\n",
       "    }\n",
       "\n",
       "    .dataframe thead th {\n",
       "        text-align: right;\n",
       "    }\n",
       "</style>\n",
       "<table border=\"1\" class=\"dataframe\">\n",
       "  <thead>\n",
       "    <tr style=\"text-align: right;\">\n",
       "      <th></th>\n",
       "      <th>City</th>\n",
       "      <th>Lat</th>\n",
       "      <th>Lng</th>\n",
       "      <th>Hotel Name</th>\n",
       "      <th>Hotel Address</th>\n",
       "      <th>Country</th>\n",
       "    </tr>\n",
       "  </thead>\n",
       "  <tbody>\n",
       "    <tr>\n",
       "      <th>4</th>\n",
       "      <td>Bubaque</td>\n",
       "      <td>11.2833</td>\n",
       "      <td>-15.8333</td>\n",
       "      <td>Saldomar B&amp;Biosphere</td>\n",
       "      <td>Puerto Dr Bubaque, Bubaque</td>\n",
       "      <td>GW</td>\n",
       "    </tr>\n",
       "    <tr>\n",
       "      <th>26</th>\n",
       "      <td>Cape Town</td>\n",
       "      <td>-33.9258</td>\n",
       "      <td>18.4232</td>\n",
       "      <td>Esme Witbooi Coaching</td>\n",
       "      <td>Darling Street, Cape Town</td>\n",
       "      <td>ZA</td>\n",
       "    </tr>\n",
       "    <tr>\n",
       "      <th>277</th>\n",
       "      <td>Geraldton</td>\n",
       "      <td>-28.7667</td>\n",
       "      <td>114.6000</td>\n",
       "      <td>Houtman Abrolhos Conservation Network</td>\n",
       "      <td>Gregory Street, Beachlands</td>\n",
       "      <td>AU</td>\n",
       "    </tr>\n",
       "    <tr>\n",
       "      <th>403</th>\n",
       "      <td>Busselton</td>\n",
       "      <td>-33.6500</td>\n",
       "      <td>115.3333</td>\n",
       "      <td>JAB AGENCY</td>\n",
       "      <td>Thomas Street, West Busselton</td>\n",
       "      <td>AU</td>\n",
       "    </tr>\n",
       "    <tr>\n",
       "      <th>462</th>\n",
       "      <td>Chhor</td>\n",
       "      <td>25.5167</td>\n",
       "      <td>69.7667</td>\n",
       "      <td>Ali Nawaz Nohri Autoz Chhor</td>\n",
       "      <td>GQ88+QM5, Chor</td>\n",
       "      <td>PK</td>\n",
       "    </tr>\n",
       "    <tr>\n",
       "      <th>488</th>\n",
       "      <td>Salalah</td>\n",
       "      <td>17.0151</td>\n",
       "      <td>54.0924</td>\n",
       "      <td>Nepali Restaurant</td>\n",
       "      <td>238R+3W8, Salalah</td>\n",
       "      <td>OM</td>\n",
       "    </tr>\n",
       "    <tr>\n",
       "      <th>497</th>\n",
       "      <td>Tivaouane</td>\n",
       "      <td>14.9515</td>\n",
       "      <td>-16.8129</td>\n",
       "      <td>Palais des hôtes de Tivaouane</td>\n",
       "      <td>X52P+QR9, Tivaouane</td>\n",
       "      <td>SN</td>\n",
       "    </tr>\n",
       "    <tr>\n",
       "      <th>511</th>\n",
       "      <td>Gaoual</td>\n",
       "      <td>11.7500</td>\n",
       "      <td>-13.2000</td>\n",
       "      <td>Mosquée de Gaoual</td>\n",
       "      <td>QQ2X+FJV, Gaoual</td>\n",
       "      <td>GN</td>\n",
       "    </tr>\n",
       "  </tbody>\n",
       "</table>\n",
       "</div>"
      ],
      "text/plain": [
       "          City      Lat       Lng                             Hotel Name  \\\n",
       "4      Bubaque  11.2833  -15.8333                   Saldomar B&Biosphere   \n",
       "26   Cape Town -33.9258   18.4232                  Esme Witbooi Coaching   \n",
       "277  Geraldton -28.7667  114.6000  Houtman Abrolhos Conservation Network   \n",
       "403  Busselton -33.6500  115.3333                             JAB AGENCY   \n",
       "462      Chhor  25.5167   69.7667            Ali Nawaz Nohri Autoz Chhor   \n",
       "488    Salalah  17.0151   54.0924                      Nepali Restaurant   \n",
       "497  Tivaouane  14.9515  -16.8129          Palais des hôtes de Tivaouane   \n",
       "511     Gaoual  11.7500  -13.2000                      Mosquée de Gaoual   \n",
       "\n",
       "                     Hotel Address Country  \n",
       "4       Puerto Dr Bubaque, Bubaque      GW  \n",
       "26       Darling Street, Cape Town      ZA  \n",
       "277     Gregory Street, Beachlands      AU  \n",
       "403  Thomas Street, West Busselton      AU  \n",
       "462                 GQ88+QM5, Chor      PK  \n",
       "488              238R+3W8, Salalah      OM  \n",
       "497            X52P+QR9, Tivaouane      SN  \n",
       "511               QQ2X+FJV, Gaoual      GN  "
      ]
     },
     "execution_count": 72,
     "metadata": {},
     "output_type": "execute_result"
    }
   ],
   "source": [
    "hotel_df = ideal[[\"City\",\"lat\",\"lng\",\"Hotel Name\", \"Hotel Address\",\"Country\"]]\n",
    "hotel_df.rename(columns = {\"lat\":\"Lat\", \"lng\": \"Lng\"}, inplace = True)\n",
    "\n",
    "hotel_df = hotel_df[hotel_df[\"Hotel Name\"] != \"NA\"]\n",
    "hotel_df.to_csv(\"hotel_df.csv\", index=False)\n",
    "hotel_df"
   ]
  },
  {
   "cell_type": "code",
   "execution_count": 85,
   "metadata": {},
   "outputs": [],
   "source": [
    "# NOTE: Do not change any of the code in this cell\n",
    "\n",
    "# Using the template add the hotel marks to the heatmap\n",
    "info_box_template = \"\"\"\n",
    "<dl>\n",
    "<dt>Name</dt><dd>{Hotel Name}</dd>\n",
    "<dt>City</dt><dd>{City}</dd>\n",
    "<dt>Country</dt><dd>{Country}</dd>\n",
    "</dl>\n",
    "\"\"\"\n",
    "# Store the DataFrame Row\n",
    "# NOTE: be sure to update with your DataFrame name\n",
    "hotel_info = [info_box_template.format(**row) for index, row in hotel_df.iterrows()]\n",
    "locations = hotel_df[[\"Lat\", \"Lng\"]]"
   ]
  },
  {
   "cell_type": "code",
   "execution_count": 86,
   "metadata": {},
   "outputs": [
    {
     "data": {
      "application/vnd.jupyter.widget-view+json": {
       "model_id": "82eaf6856b834631a200e5d967a088a7",
       "version_major": 2,
       "version_minor": 0
      },
      "text/plain": [
       "Figure(layout=FigureLayout(height='420px'))"
      ]
     },
     "metadata": {},
     "output_type": "display_data"
    }
   ],
   "source": [
    "# Add marker layer ontop of heat map\n",
    "markers = gmaps.marker_layer(locations, info_box_content= hotel_info)\n",
    "fig.add_layer(markers)\n",
    "\n",
    "# Display figure\n",
    "fig"
   ]
  },
  {
   "cell_type": "code",
   "execution_count": null,
   "metadata": {},
   "outputs": [],
   "source": []
  }
 ],
 "metadata": {
  "kernelspec": {
   "display_name": "Python 3 (ipykernel)",
   "language": "python",
   "name": "python3"
  },
  "language_info": {
   "codemirror_mode": {
    "name": "ipython",
    "version": 3
   },
   "file_extension": ".py",
   "mimetype": "text/x-python",
   "name": "python",
   "nbconvert_exporter": "python",
   "pygments_lexer": "ipython3",
   "version": "3.9.7"
  },
  "latex_envs": {
   "LaTeX_envs_menu_present": true,
   "autoclose": false,
   "autocomplete": true,
   "bibliofile": "biblio.bib",
   "cite_by": "apalike",
   "current_citInitial": 1,
   "eqLabelWithNumbers": true,
   "eqNumInitial": 1,
   "hotkeys": {
    "equation": "Ctrl-E",
    "itemize": "Ctrl-I"
   },
   "labels_anchors": false,
   "latex_user_defs": false,
   "report_style_numbering": false,
   "user_envs_cfg": false
  }
 },
 "nbformat": 4,
 "nbformat_minor": 4
}
